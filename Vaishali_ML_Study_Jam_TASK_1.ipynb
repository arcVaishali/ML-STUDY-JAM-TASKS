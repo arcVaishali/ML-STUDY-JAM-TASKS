{
  "nbformat": 4,
  "nbformat_minor": 0,
  "metadata": {
    "colab": {
      "provenance": [],
      "authorship_tag": "ABX9TyOuySv5tB7ilboPDbhjmUfW",
      "include_colab_link": true
    },
    "kernelspec": {
      "name": "python3",
      "display_name": "Python 3"
    },
    "language_info": {
      "name": "python"
    }
  },
  "cells": [
    {
      "cell_type": "markdown",
      "metadata": {
        "id": "view-in-github",
        "colab_type": "text"
      },
      "source": [
        "<a href=\"https://colab.research.google.com/github/arcVaishali/ML-STUDY-JAM-TASKS/blob/main/Vaishali_ML_Study_Jam_TASK_1.ipynb\" target=\"_parent\"><img src=\"https://colab.research.google.com/assets/colab-badge.svg\" alt=\"Open In Colab\"/></a>"
      ]
    },
    {
      "cell_type": "markdown",
      "source": [
        "# **TASK-1**\n",
        "### Write a Python program to do the following operations:\n",
        "\n",
        "Data set : https://drive.google.com/file/d/1-MwXqvMIXAWuBdLzAn187Nc7_FUDx3EX/view?usp=share_link\n",
        "\n",
        "Library: Pandas\n",
        "\n",
        "a) Loading data from CSV file\n",
        "\n",
        "b) Compute the basic statistics of given data - shape, no. of columns, mean\n",
        "\n",
        "c) Splitting a data frame on values of categorical variables\n",
        "\n",
        "d) Indexing of the data.\n",
        "\n",
        "e) Display top 10 rows of data"
      ],
      "metadata": {
        "id": "nMGxg9m9Yxx_"
      }
    },
    {
      "cell_type": "markdown",
      "source": [
        "## (a.) LOADING DATA FROM CSV FILE\n"
      ],
      "metadata": {
        "id": "bj89lLjYZGas"
      }
    },
    {
      "cell_type": "code",
      "execution_count": null,
      "metadata": {
        "colab": {
          "base_uri": "https://localhost:8080/"
        },
        "id": "t88B83xDXfL_",
        "outputId": "3c13b451-fc8a-429f-ff02-b4c3fa57c898"
      },
      "outputs": [
        {
          "output_type": "stream",
          "name": "stdout",
          "text": [
            "     Store ID   Store_Area  Items_Available  Daily_Customer_Count  Store_Sales\n",
            "0          1.0      1659.0           1961.0                 530.0      66490.0\n",
            "1          2.0      1461.0           1752.0                 210.0      39820.0\n",
            "2          3.0      1340.0           1609.0                 720.0      54010.0\n",
            "3          4.0      1451.0           1748.0                 620.0      53730.0\n",
            "4          5.0      1770.0           2111.0                 450.0      46620.0\n",
            "..         ...         ...              ...                   ...          ...\n",
            "585      586.0      1227.0           1476.0                 720.0      56260.0\n",
            "586      587.0      1609.0           1930.0                 740.0      76470.0\n",
            "587      588.0      1553.0           1831.0                 740.0      35680.0\n",
            "588      589.0      1814.0           2174.0                 770.0      90070.0\n",
            "589      590.0      1240.0           1493.0                 590.0      33120.0\n",
            "\n",
            "[590 rows x 5 columns]\n"
          ]
        }
      ],
      "source": [
        "import pandas as pd \n",
        "df  = pd.read_csv('/content/ML_study_jam.csv')\n",
        "print(df)\n",
        "\n"
      ]
    },
    {
      "cell_type": "markdown",
      "source": [
        "## (b.) COMPUTE BASIC STATISTICSOF GIVEN DATA -\n",
        "i.) Shape\n",
        "\n",
        "ii.) Number of columns\n",
        "\n",
        "iii.) Mean\n",
        "\n",
        "\n",
        "\n"
      ],
      "metadata": {
        "id": "Xl9mNX7lZRkW"
      }
    },
    {
      "cell_type": "code",
      "source": [
        "#shape\n",
        "print(df.shape)"
      ],
      "metadata": {
        "colab": {
          "base_uri": "https://localhost:8080/"
        },
        "id": "StESDN_iZNBH",
        "outputId": "95a4671b-e275-455c-e793-7c74c6c9e2ac"
      },
      "execution_count": null,
      "outputs": [
        {
          "output_type": "stream",
          "name": "stdout",
          "text": [
            "(590, 5)\n"
          ]
        }
      ]
    },
    {
      "cell_type": "code",
      "source": [
        "#number of columns\n",
        "tup = df.shape\n",
        "no_columns = tup[1]\n",
        "print(\"Number of columns:: \", no_columns)\n",
        "\n",
        "print('\\n')\n",
        "print(\"Table Info\")\n",
        "print(df.info)\n"
      ],
      "metadata": {
        "id": "xfV5ukjNaQBb",
        "colab": {
          "base_uri": "https://localhost:8080/"
        },
        "outputId": "e257c09e-2560-4d96-f4d7-d929ca0e531e"
      },
      "execution_count": null,
      "outputs": [
        {
          "output_type": "stream",
          "name": "stdout",
          "text": [
            "Number of columns::  5\n",
            "\n",
            "\n",
            "Table Info\n",
            "<bound method DataFrame.info of      Store ID   Store_Area  Items_Available  Daily_Customer_Count  Store_Sales\n",
            "0          1.0      1659.0           1961.0                 530.0      66490.0\n",
            "1          2.0      1461.0           1752.0                 210.0      39820.0\n",
            "2          3.0      1340.0           1609.0                 720.0      54010.0\n",
            "3          4.0      1451.0           1748.0                 620.0      53730.0\n",
            "4          5.0      1770.0           2111.0                 450.0      46620.0\n",
            "..         ...         ...              ...                   ...          ...\n",
            "585      586.0      1227.0           1476.0                 720.0      56260.0\n",
            "586      587.0      1609.0           1930.0                 740.0      76470.0\n",
            "587      588.0      1553.0           1831.0                 740.0      35680.0\n",
            "588      589.0      1814.0           2174.0                 770.0      90070.0\n",
            "589      590.0      1240.0           1493.0                 590.0      33120.0\n",
            "\n",
            "[590 rows x 5 columns]>\n"
          ]
        }
      ]
    },
    {
      "cell_type": "code",
      "source": [
        "#mean \n",
        "mean_ = df.mean()\n",
        "print(mean_)"
      ],
      "metadata": {
        "colab": {
          "base_uri": "https://localhost:8080/"
        },
        "id": "M-kcqOhMcH5u",
        "outputId": "9f7c75cf-5369-4dff-9a1f-5e26ffec2f55"
      },
      "execution_count": null,
      "outputs": [
        {
          "output_type": "stream",
          "name": "stdout",
          "text": [
            "Store ID                  295.369048\n",
            "Store_Area               1482.250426\n",
            "Items_Available          1775.050086\n",
            "Daily_Customer_Count      785.807229\n",
            "Store_Sales             58223.865979\n",
            "dtype: float64\n"
          ]
        }
      ]
    },
    {
      "cell_type": "markdown",
      "source": [
        "## (c.)  SPLITTING A DATAFRAME ON VALUES OF CATEGORICAL VARIABLES "
      ],
      "metadata": {
        "id": "mA6hVR0gcpNq"
      }
    },
    {
      "cell_type": "code",
      "source": [
        "groups=df.groupby('Daily_Customer_Count')\n",
        "\n",
        "# here groups is a DataFrameGroupBy Object\n",
        "# A categorical data is a data which has limited value for example Gender, Marital Status\n",
        "\n",
        "for i,j in groups:\n",
        "  print(i) \n",
        "  print(j)"
      ],
      "metadata": {
        "id": "ZOSrFmfXc3qm"
      },
      "execution_count": null,
      "outputs": []
    },
    {
      "cell_type": "markdown",
      "source": [
        "## (d) INDEXING OF THE DATA."
      ],
      "metadata": {
        "id": "wUdEpx2MhDJK"
      }
    },
    {
      "cell_type": "code",
      "source": [
        "#printing row number-4 i.e. row with index 3 using \n",
        "#.loc accessor\n",
        "row_no_3 = df.loc[3]\n",
        "print(\"printing row number-4 i.e. row with index 3 using .loc accessor\")\n",
        "print(row_no_3) \n",
        "print(\"\\n\")\n",
        "\n",
        "#printing item at rownumber 4 and column Store_Area\n",
        "#.loc accessor\n",
        "item = df.loc[3,'Store_Area']\n",
        "print(\"#printing item at rownumber 4 and column Store_Area #.loc accessor\")\n",
        "print(item)\n",
        "print(\"\\n\")\n",
        "\n",
        "#printing item at row number 4 and column number 4\n",
        "#.iloc method\n",
        "item = df.iloc[3,3]\n",
        "print(\"#printing item at row number 4 and column number 4#.iloc method\")\n",
        "print(item, end=\"\\n\") \n",
        "print(\"\\n\")\n",
        "\n",
        "#printing column using [] opeartor\n",
        "#[]\n",
        "col = df['Store_Area'] \n",
        "print(\"#printing column using [] opeartor #[]\")\n",
        "print(col)\n",
        "print(\"\\n\")\n",
        "\n",
        "#printing multiple columns from given table\n",
        "#using []\n",
        "cols = df[['Store_Sales','Daily_Customer_Count', 'Store_Area']]\n",
        "print(\"#printing multiple columns from given table #using []\")\n",
        "print(cols) \n",
        "print(\"\\n\")\n",
        "\n",
        "#printing rows using boolean indexing\n",
        "selected_rows = df[df['Daily_Customer_Count']==600.0]\n",
        "print(\"#printing multiple columns from given table #using []\")\n",
        "print(selected_rows) \n",
        "print(\"\\n\")\n",
        "\n",
        "#printing a portion of table / subset of DataFrame in the range of rows and columns using .loc\n",
        "sel_rowXcol=df.loc[1:2,['Store_Area','Daily_Customer_Count']]\n",
        "print(\"#printing a portion of given table/ subset of DataFrame in the range of rows and columns using .loc\")\n",
        "print(sel_rowXcol)  \n",
        "print(\"\\n\")\n",
        "\n",
        "#printing a portion of table/ subset of DataFrame in the range of rows and columns using .iloc\n",
        "sel_rowXcol = df.iloc[1:2,[1,2]]  \n",
        "print(\"#printing a portion of table/ subset of DataFrame in the range of rows and columns using .iloc\")\n",
        "print(sel_rowXcol) \n",
        "print(\"\\n\")\n",
        "\n"
      ],
      "metadata": {
        "colab": {
          "base_uri": "https://localhost:8080/"
        },
        "id": "JW-S1UiJhfQJ",
        "outputId": "6d69ea84-4335-4ab8-9b8e-c79d0a9b3c30"
      },
      "execution_count": null,
      "outputs": [
        {
          "output_type": "stream",
          "name": "stdout",
          "text": [
            "printing row number-4 i.e. row with index 3 using .loc accessor\n",
            "Store ID                    4.0\n",
            "Store_Area               1451.0\n",
            "Items_Available          1748.0\n",
            "Daily_Customer_Count      620.0\n",
            "Store_Sales             53730.0\n",
            "Name: 3, dtype: float64\n",
            "\n",
            "\n",
            "#printing item at rownumber 4 and column Store_Area #.loc accessor\n",
            "1451.0\n",
            "\n",
            "\n",
            "#printing item at row number 4 and column number 4#.iloc method\n",
            "620.0\n",
            "\n",
            "\n",
            "#printing column using [] opeartor #[]\n",
            "0      1659.0\n",
            "1      1461.0\n",
            "2      1340.0\n",
            "3      1451.0\n",
            "4      1770.0\n",
            "        ...  \n",
            "585    1227.0\n",
            "586    1609.0\n",
            "587    1553.0\n",
            "588    1814.0\n",
            "589    1240.0\n",
            "Name: Store_Area, Length: 590, dtype: float64\n",
            "\n",
            "\n",
            "#printing multiple columns from given table #using []\n",
            "     Store_Sales  Daily_Customer_Count  Store_Area\n",
            "0        66490.0                 530.0      1659.0\n",
            "1        39820.0                 210.0      1461.0\n",
            "2        54010.0                 720.0      1340.0\n",
            "3        53730.0                 620.0      1451.0\n",
            "4        46620.0                 450.0      1770.0\n",
            "..           ...                   ...         ...\n",
            "585      56260.0                 720.0      1227.0\n",
            "586      76470.0                 740.0      1609.0\n",
            "587      35680.0                 740.0      1553.0\n",
            "588      90070.0                 770.0      1814.0\n",
            "589      33120.0                 590.0      1240.0\n",
            "\n",
            "[590 rows x 3 columns]\n",
            "\n",
            "\n",
            "#printing multiple columns from given table #using []\n",
            "     Store ID   Store_Area  Items_Available  Daily_Customer_Count  Store_Sales\n",
            "41        42.0       965.0           1152.0                 600.0      48140.0\n",
            "62        63.0      1472.0           1748.0                 600.0      49100.0\n",
            "79        80.0      1462.0           1761.0                 600.0      65660.0\n",
            "91        92.0      2169.0           2617.0                 600.0      67080.0\n",
            "304      305.0      1092.0           1314.0                 600.0      76530.0\n",
            "394      395.0      1209.0           1464.0                 600.0      36740.0\n",
            "537      538.0      1601.0           1920.0                 600.0      61000.0\n",
            "\n",
            "\n",
            "#printing a portion of given table/ subset of DataFrame in the range of rows and columns using .loc\n",
            "   Store_Area  Daily_Customer_Count\n",
            "1      1461.0                 210.0\n",
            "2      1340.0                 720.0\n",
            "\n",
            "\n",
            "#printing a portion of table/ subset of DataFrame in the range of rows and columns using .iloc\n",
            "   Store_Area  Items_Available\n",
            "1      1461.0           1752.0\n",
            "\n",
            "\n"
          ]
        }
      ]
    },
    {
      "cell_type": "markdown",
      "source": [
        "## (e.) DISPLAY TOP 10 OF DATA"
      ],
      "metadata": {
        "id": "Zma_Sb2ijeHj"
      }
    },
    {
      "cell_type": "code",
      "source": [
        "print(df.head(10))"
      ],
      "metadata": {
        "colab": {
          "base_uri": "https://localhost:8080/"
        },
        "id": "MFSFlZQAjmCS",
        "outputId": "d1adbbc5-f5be-4ab0-b899-ac94209ef217"
      },
      "execution_count": null,
      "outputs": [
        {
          "output_type": "stream",
          "name": "stdout",
          "text": [
            "   Store ID   Store_Area  Items_Available  Daily_Customer_Count  Store_Sales\n",
            "0        1.0      1659.0           1961.0                 530.0      66490.0\n",
            "1        2.0      1461.0           1752.0                 210.0      39820.0\n",
            "2        3.0      1340.0           1609.0                 720.0      54010.0\n",
            "3        4.0      1451.0           1748.0                 620.0      53730.0\n",
            "4        5.0      1770.0           2111.0                 450.0      46620.0\n",
            "5        6.0      1442.0           1733.0                 760.0      45260.0\n",
            "6        7.0      1542.0           1858.0                1030.0      72240.0\n",
            "7        8.0      1261.0           1507.0                1020.0      37720.0\n",
            "8        9.0      1090.0           1321.0                 680.0      46310.0\n",
            "9       10.0      1030.0           1235.0                1130.0      44150.0\n"
          ]
        }
      ]
    }
  ]
}